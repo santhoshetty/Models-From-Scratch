{
 "cells": [
  {
   "cell_type": "markdown",
   "metadata": {},
   "source": [
    "# k-Nearest Neighbors\n",
    "\n",
    "k-NN is used for classification mainly and to some extent can perform regression depending on the type of datset. The algorithm functions as below:\n",
    "1. The k closest neighbors to a test-instance in the training dataset is found.\n",
    "2. The chosen k closest neighbors vote on the class the test-instance should belong to.\n",
    "3. The class which receives the maximum votes is chosen as the class of the test-instance."
   ]
  },
  {
   "cell_type": "code",
   "execution_count": 84,
   "metadata": {},
   "outputs": [],
   "source": [
    "import operator\n",
    "import math"
   ]
  },
  {
   "cell_type": "code",
   "execution_count": 85,
   "metadata": {},
   "outputs": [],
   "source": [
    "# The file iris.data is imported using a csv reader and printed\n",
    "#import csv\n",
    "#with open('data/iris.data', 'r') as csvfile:\n",
    " #   lines = csv.reader(csvfile)\n",
    "  #  for row in lines:\n",
    "        #print(', '.join(row))"
   ]
  },
  {
   "cell_type": "code",
   "execution_count": 86,
   "metadata": {},
   "outputs": [],
   "source": [
    "# The entire set is split into training and test with a 67/33 % split approximately\n",
    "import csv\n",
    "import random\n",
    "def loadDataset(filename, split, trainingSet=[] , testSet=[]):\n",
    "    with open(filename, 'r') as csvfile:\n",
    "        lines = csv.reader(csvfile)\n",
    "        dataset = list(lines)\n",
    "        for x in range(len(dataset)-1):\n",
    "            for y in range(4):\n",
    "                dataset[x][y] = float(dataset[x][y])\n",
    "            if random.random() < split:\n",
    "                trainingSet.append(dataset[x])\n",
    "            else:\n",
    "                testSet.append(dataset[x])"
   ]
  },
  {
   "cell_type": "code",
   "execution_count": 87,
   "metadata": {},
   "outputs": [
    {
     "name": "stdout",
     "output_type": "stream",
     "text": [
      "Train: 98\n",
      "Test: 51\n"
     ]
    }
   ],
   "source": [
    "trainingSet=[]\n",
    "testSet=[]\n",
    "loadDataset('data/iris.data', 0.66, trainingSet, testSet)\n",
    "print('Train: ' + repr(len(trainingSet)))\n",
    "print('Test: ' + repr(len(testSet)))"
   ]
  },
  {
   "cell_type": "code",
   "execution_count": 88,
   "metadata": {},
   "outputs": [],
   "source": [
    "class kNN():\n",
    "    # Create a kNN class initial definition by passing the test instance, training set, and k\n",
    "    # the number of closest neighbors for classification\n",
    "    def __init__(self, x, train, k):\n",
    "        self.k = k\n",
    "        self.x = x\n",
    "        self.train = train\n",
    "        \n",
    "    # Get the k closest neighbors\n",
    "    def getNeighbors(self):\n",
    "        distances = []\n",
    "        for i in range(len(self.train)):\n",
    "            trainInstance = self.train[i]\n",
    "            dist = self.getEuclideanDistance(trainInstance)\n",
    "            distances.append((self.train[i][-1], dist))\n",
    "        distances.sort(key=operator.itemgetter(1))\n",
    "        neighbors = []\n",
    "        for i in range(self.k):\n",
    "            neighbors.append(distances[i][0])\n",
    "        return neighbors\n",
    "    \n",
    "    # Find how many times each class is voted from the list of the k closest neighbors provided\n",
    "    def votes(self):\n",
    "        class_votes = {}\n",
    "        neighbors = self.getNeighbors()\n",
    "        for i in range(len(neighbors)):\n",
    "            if neighbors[i] in class_votes:\n",
    "                class_votes[neighbors[i]] += 1\n",
    "            else:\n",
    "                class_votes[neighbors[i]] = 1\n",
    "        return class_votes\n",
    "    \n",
    "    # The predicted class is the one which receives the maximum number of votes \n",
    "    def prediction(self):\n",
    "        return max(self.votes().items(), key=operator.itemgetter(1))[0]\n",
    "        \n",
    "    # For finding similarity between a test instance and a training instance\n",
    "    def getEuclideanDistance(self, trainInstance):\n",
    "        distance = 0\n",
    "        # calculate distances using sepal length, height and petal height and length only. \n",
    "        # Ignore the class in distance calculation\n",
    "        for i in range(len(trainInstance)-1):\n",
    "            distance += pow((trainInstance[i] - self.x[i]), 2)\n",
    "        return math.sqrt(distance)"
   ]
  },
  {
   "cell_type": "code",
   "execution_count": 89,
   "metadata": {},
   "outputs": [],
   "source": [
    "def get_accuracy(testSet, predictions):\n",
    "    correct = 0\n",
    "    for i in range(len(testSet)):\n",
    "        if (testSet[i][-1] == predictions[i]):\n",
    "            correct += 1\n",
    "    accuracy = float(correct)/float(len(testSet))*100.0\n",
    "    return accuracy"
   ]
  },
  {
   "cell_type": "code",
   "execution_count": 90,
   "metadata": {},
   "outputs": [
    {
     "name": "stdout",
     "output_type": "stream",
     "text": [
      "predicted='Iris-setosa', actual='Iris-setosa'\n",
      "predicted='Iris-setosa', actual='Iris-setosa'\n",
      "predicted='Iris-setosa', actual='Iris-setosa'\n",
      "predicted='Iris-setosa', actual='Iris-setosa'\n",
      "predicted='Iris-setosa', actual='Iris-setosa'\n",
      "predicted='Iris-setosa', actual='Iris-setosa'\n",
      "predicted='Iris-setosa', actual='Iris-setosa'\n",
      "predicted='Iris-setosa', actual='Iris-setosa'\n",
      "predicted='Iris-setosa', actual='Iris-setosa'\n",
      "predicted='Iris-setosa', actual='Iris-setosa'\n",
      "predicted='Iris-setosa', actual='Iris-setosa'\n",
      "predicted='Iris-setosa', actual='Iris-setosa'\n",
      "predicted='Iris-setosa', actual='Iris-setosa'\n",
      "predicted='Iris-setosa', actual='Iris-setosa'\n",
      "predicted='Iris-setosa', actual='Iris-setosa'\n",
      "predicted='Iris-setosa', actual='Iris-setosa'\n",
      "predicted='Iris-setosa', actual='Iris-setosa'\n",
      "predicted='Iris-setosa', actual='Iris-setosa'\n",
      "predicted='Iris-setosa', actual='Iris-setosa'\n",
      "predicted='Iris-versicolor', actual='Iris-versicolor'\n",
      "predicted='Iris-versicolor', actual='Iris-versicolor'\n",
      "predicted='Iris-versicolor', actual='Iris-versicolor'\n",
      "predicted='Iris-versicolor', actual='Iris-versicolor'\n",
      "predicted='Iris-versicolor', actual='Iris-versicolor'\n",
      "predicted='Iris-versicolor', actual='Iris-versicolor'\n",
      "predicted='Iris-versicolor', actual='Iris-versicolor'\n",
      "predicted='Iris-versicolor', actual='Iris-versicolor'\n",
      "predicted='Iris-versicolor', actual='Iris-versicolor'\n",
      "predicted='Iris-versicolor', actual='Iris-versicolor'\n",
      "predicted='Iris-versicolor', actual='Iris-versicolor'\n",
      "predicted='Iris-virginica', actual='Iris-versicolor'\n",
      "predicted='Iris-versicolor', actual='Iris-versicolor'\n",
      "predicted='Iris-versicolor', actual='Iris-versicolor'\n",
      "predicted='Iris-versicolor', actual='Iris-versicolor'\n",
      "predicted='Iris-versicolor', actual='Iris-versicolor'\n",
      "predicted='Iris-versicolor', actual='Iris-versicolor'\n",
      "predicted='Iris-versicolor', actual='Iris-versicolor'\n",
      "predicted='Iris-virginica', actual='Iris-virginica'\n",
      "predicted='Iris-virginica', actual='Iris-virginica'\n",
      "predicted='Iris-virginica', actual='Iris-virginica'\n",
      "predicted='Iris-virginica', actual='Iris-virginica'\n",
      "predicted='Iris-virginica', actual='Iris-virginica'\n",
      "predicted='Iris-virginica', actual='Iris-virginica'\n",
      "predicted='Iris-virginica', actual='Iris-virginica'\n",
      "predicted='Iris-virginica', actual='Iris-virginica'\n",
      "predicted='Iris-virginica', actual='Iris-virginica'\n",
      "predicted='Iris-virginica', actual='Iris-virginica'\n",
      "predicted='Iris-virginica', actual='Iris-virginica'\n",
      "predicted='Iris-virginica', actual='Iris-virginica'\n",
      "predicted='Iris-virginica', actual='Iris-virginica'\n",
      "predicted='Iris-virginica', actual='Iris-virginica'\n",
      "98.0392156862745\n"
     ]
    }
   ],
   "source": [
    "k = 3\n",
    "predictions = []\n",
    "for x in range(len(testSet)):\n",
    "    result = kNN(testSet[x], trainingSet, k)\n",
    "    prediction = result.prediction()\n",
    "    predictions.append(prediction)\n",
    "    print('predicted=' + repr(prediction) + ', actual=' + repr(testSet[x][-1]))\n",
    "print(get_accuracy(testSet, predictions))"
   ]
  },
  {
   "cell_type": "markdown",
   "metadata": {},
   "source": [
    "With k = 3, this algorithm obtains a 98.04% accuracy."
   ]
  }
 ],
 "metadata": {
  "kernelspec": {
   "display_name": "Python 3",
   "language": "python",
   "name": "python3"
  }
 },
 "nbformat": 4,
 "nbformat_minor": 2
}
