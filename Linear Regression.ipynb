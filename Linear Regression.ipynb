{
 "cells": [
  {
   "cell_type": "markdown",
   "metadata": {},
   "source": [
    "# Linear Regression from Scratch\n",
    "The steps we will follow are:\n",
    "1. Generate a dataset with some random noise\n",
    "2. Use sklearn linear regression as benchmark\n",
    "3. Implement linear regression from scratch and compare"
   ]
  },
  {
   "cell_type": "code",
   "execution_count": 1,
   "metadata": {},
   "outputs": [],
   "source": [
    "import numpy as np\n",
    "import pandas as pd\n",
    "import matplotlib.pyplot as plt\n",
    "import seaborn as sns\n",
    "import math\n",
    "from sklearn.metrics import mean_squared_error\n",
    "from sklearn.preprocessing import StandardScaler\n",
    "seed = 7\n",
    "np.random.seed(seed)"
   ]
  },
  {
   "cell_type": "markdown",
   "metadata": {},
   "source": [
    "### Generate a dataset with random noise"
   ]
  },
  {
   "cell_type": "code",
   "execution_count": 2,
   "metadata": {},
   "outputs": [
    {
     "name": "stdout",
     "output_type": "stream",
     "text": [
      "x shape =  (200, 3) y shape =  (200,)\n"
     ]
    }
   ],
   "source": [
    "from sklearn.datasets.samples_generator import make_regression\n",
    "x,y = make_regression(n_samples = 200, n_features= 3, n_informative=1, random_state=0, noise=30)\n",
    "print('x shape = ', x.shape, 'y shape = ', y.shape)"
   ]
  },
  {
   "cell_type": "markdown",
   "metadata": {},
   "source": [
    "### Benchmark with sklearn Linear Regression"
   ]
  },
  {
   "cell_type": "code",
   "execution_count": 3,
   "metadata": {},
   "outputs": [
    {
     "name": "stdout",
     "output_type": "stream",
     "text": [
      "[56.03321382  3.66237626 -2.01575327]\n",
      "-0.862435693597918\n"
     ]
    },
    {
     "data": {
      "text/plain": [
       "866.5524414508043"
      ]
     },
     "execution_count": 3,
     "metadata": {},
     "output_type": "execute_result"
    }
   ],
   "source": [
    "from sklearn.linear_model import LinearRegression\n",
    "lin_reg = LinearRegression()\n",
    "lin_reg.fit(x,y)\n",
    "print(lin_reg.coef_)\n",
    "print(lin_reg.intercept_)\n",
    "pred_y = lin_reg.predict(x)\n",
    "mean_squared_error(y, pred_y)"
   ]
  },
  {
   "cell_type": "markdown",
   "metadata": {},
   "source": [
    "### Linear Regression from scratch"
   ]
  },
  {
   "cell_type": "markdown",
   "metadata": {},
   "source": [
    "The hypothesis is given by, \n",
    "${H_\\theta }(X) = X{\\theta}$\n",
    "\n",
    "where, $\\theta _0$ and $\\theta _1$ are model values to be found\n",
    "\n",
    "The cost function to be minimized is given by,\n",
    "$J(\\theta ) = \\frac{1}{{2m}}{\\left( {X\\theta  - y} \\right)^2}$"
   ]
  },
  {
   "cell_type": "code",
   "execution_count": 4,
   "metadata": {},
   "outputs": [],
   "source": [
    "class CustomLinReg():\n",
    "    def __init__(self, X, y, learning_rate, max_iter = 1000):\n",
    "        np.random.seed(42)\n",
    "        self.X, self.y, self.lr, self.max_iter = X, y, learning_rate, max_iter\n",
    "        # Add column of random constants to X\n",
    "        self.X = np.column_stack((np.ones(len(self.X)), self.X))\n",
    "        # Pre-processing of Data\n",
    "        scaler = StandardScaler()\n",
    "        scaler.fit(self.X)\n",
    "        self.X = scaler.transform(self.X)\n",
    "        # Initialization of Theta in Hypothesis\n",
    "        self.theta = np.random.rand(self.X.shape[1])\n",
    "        self.gradient_descent()\n",
    "    \n",
    "    def gradient_descent(self):\n",
    "        # Find number of rows\n",
    "        m = len(y)\n",
    "        \n",
    "        # Calculate Initial Cost\n",
    "        J = self.compute_cost(self.X, self.y, self.theta)\n",
    "        \n",
    "        # Minimize cost by gradient descent\n",
    "        for i in range(self.max_iter):\n",
    "            grad = (1/m) * np.matmul(self.X.T, np.matmul(self.X, self.theta) - y)\n",
    "            self.theta = self.theta - self.lr * grad\n",
    "        \n",
    "    def compute_cost(self, X, y, theta):\n",
    "        return np.sum(np.square(np.matmul(X, theta) - y) / (2*len(y)))        "
   ]
  },
  {
   "cell_type": "code",
   "execution_count": 5,
   "metadata": {},
   "outputs": [
    {
     "data": {
      "text/plain": [
       "array([ 0.37454012, 57.13387403,  3.54547456, -2.04015725])"
      ]
     },
     "execution_count": 5,
     "metadata": {},
     "output_type": "execute_result"
    }
   ],
   "source": [
    "lin_reg = CustomLinReg(x,y, 0.01)\n",
    "lin_reg.theta"
   ]
  },
  {
   "cell_type": "code",
   "execution_count": 6,
   "metadata": {},
   "outputs": [],
   "source": [
    "x = np.column_stack((np.ones(len(x)), x))"
   ]
  },
  {
   "cell_type": "code",
   "execution_count": 7,
   "metadata": {},
   "outputs": [],
   "source": [
    "y_pred = np.matmul(x, lin_reg.theta)"
   ]
  },
  {
   "cell_type": "code",
   "execution_count": 8,
   "metadata": {},
   "outputs": [
    {
     "data": {
      "text/plain": [
       "869.476164076133"
      ]
     },
     "execution_count": 8,
     "metadata": {},
     "output_type": "execute_result"
    }
   ],
   "source": [
    "mean_squared_error(y, y_pred)"
   ]
  },
  {
   "cell_type": "markdown",
   "metadata": {},
   "source": [
    "This mean squared error is in close agreement with that of sklearn's Linear Regression"
   ]
  }
 ],
 "metadata": {
  "kernelspec": {
   "display_name": "Python 3",
   "language": "python",
   "name": "python3"
  },
  "language_info": {
   "codemirror_mode": {
    "name": "ipython",
    "version": 3
   },
   "file_extension": ".py",
   "mimetype": "text/x-python",
   "name": "python",
   "nbconvert_exporter": "python",
   "pygments_lexer": "ipython3",
   "version": "3.6.4"
  }
 },
 "nbformat": 4,
 "nbformat_minor": 2
}
