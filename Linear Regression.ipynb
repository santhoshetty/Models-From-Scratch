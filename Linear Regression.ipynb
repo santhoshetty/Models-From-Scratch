{
 "cells": [
  {
   "cell_type": "markdown",
   "metadata": {},
   "source": [
    "# Linear Regression from Scratch\n",
    "The steps we will follow are:\n",
    "1. Generate a dataset with some random noise\n",
    "2. Use sklearn linear regression as benchmark\n",
    "3. Implement linear regression from scratch and compare"
   ]
  },
  {
   "cell_type": "code",
   "execution_count": 8,
   "metadata": {},
   "outputs": [],
   "source": [
    "import numpy as np\n",
    "import pandas as pd\n",
    "import matplotlib.pyplot as plt\n",
    "import seaborn as sns\n",
    "from sklearn.preprocessing import StandardScaler\n",
    "seed = 7\n",
    "np.random.seed(seed)"
   ]
  },
  {
   "cell_type": "markdown",
   "metadata": {},
   "source": [
    "### Generate a dataset with random noise"
   ]
  },
  {
   "cell_type": "code",
   "execution_count": 218,
   "metadata": {},
   "outputs": [
    {
     "name": "stdout",
     "output_type": "stream",
     "text": [
      "x shape =  (200, 1) y shape =  (200,)\n"
     ]
    }
   ],
   "source": [
    "from sklearn.datasets.samples_generator import make_regression\n",
    "x,y = make_regression(n_samples = 200, n_features= 1, n_informative=1, random_state=0, noise=30)\n",
    "print('x shape = ', x.shape, 'y shape = ', y.shape)"
   ]
  },
  {
   "cell_type": "code",
   "execution_count": 219,
   "metadata": {},
   "outputs": [
    {
     "data": {
      "text/plain": [
       "<matplotlib.collections.PathCollection at 0x24ae8899c18>"
      ]
     },
     "execution_count": 219,
     "metadata": {},
     "output_type": "execute_result"
    },
    {
     "data": {
      "image/png": "[encoded data removed]",
      "text/plain": [
       "<Figure size 432x288 with 1 Axes>"
      ]
     },
     "metadata": {},
     "output_type": "display_data"
    }
   ],
   "source": [
    "plt.scatter(x,y)"
   ]
  },
  {
   "cell_type": "code",
   "execution_count": 220,
   "metadata": {},
   "outputs": [],
   "source": [
    "def get_rmse(y, yhat):\n",
    "    return np.sqrt(np.sum(np.square(y-yhat)))"
   ]
  },
  {
   "cell_type": "markdown",
   "metadata": {},
   "source": [
    "### Benchmark with sklearn Linear Regression"
   ]
  },
  {
   "cell_type": "code",
   "execution_count": 221,
   "metadata": {},
   "outputs": [
    {
     "name": "stdout",
     "output_type": "stream",
     "text": [
      "[97.00739564]\n",
      "-4.188203055010986\n",
      "416.8569923703271\n"
     ]
    }
   ],
   "source": [
    "from sklearn.linear_model import LinearRegression\n",
    "lin_reg = LinearRegression(fit_intercept = True)\n",
    "lin_reg.fit(x,y)\n",
    "print(lin_reg.coef_)\n",
    "print(lin_reg.intercept_)\n",
    "pred_y = lin_reg.predict(x)\n",
    "print(get_mse(y,pred_y))"
   ]
  },
  {
   "cell_type": "markdown",
   "metadata": {},
   "source": [
    "### Gradient Descent "
   ]
  },
  {
   "cell_type": "code",
   "execution_count": 222,
   "metadata": {},
   "outputs": [],
   "source": [
    "def gradient_descent(learning_rate, x, y, max_iter = 100):\n",
    "    convergence = False\n",
    "    counter = 0\n",
    "    m = len(x)\n",
    "    \n",
    "    theta0 = np.random.rand(1)\n",
    "    theta1 = np.random.rand(x.shape[1])\n",
    "    \n",
    "    J = np.sum(np.square(np.matmul(x,theta1) + theta0 - y))\n",
    "    #print(J)\n",
    "    #print(J.shape)\n",
    "    \n",
    "    while not convergence:\n",
    "        grad0 = 1.0/m*np.sum((np.matmul(x,theta1) + theta0 - y))\n",
    "        grad1 = 1.0/m*np.sum(np.matmul((np.matmul(x,theta1) + theta0 - y),x))\n",
    "        \n",
    "        #print(grad0.shape, '  ', grad1.shape)\n",
    "        \n",
    "        theta0 = theta0 - learning_rate*grad0\n",
    "        theta1 = theta1 - learning_rate*grad1\n",
    "        \n",
    "        error = np.sum(np.square(np.matmul(x,theta1) + theta0 - y))\n",
    "        #print(error)\n",
    "        \n",
    "        if ((abs(J-error) < 0.001) or (counter == max_iter)):\n",
    "            convergence = True\n",
    "        \n",
    "        counter += 1\n",
    "        \n",
    "        J = error\n",
    "        \n",
    "    return theta0, theta1"
   ]
  },
  {
   "cell_type": "code",
   "execution_count": 223,
   "metadata": {},
   "outputs": [],
   "source": [
    "learning_rate = 0.01"
   ]
  },
  {
   "cell_type": "code",
   "execution_count": 224,
   "metadata": {},
   "outputs": [],
   "source": [
    "theta0, theta1 = gradient_descent(learning_rate, x, y, max_iter=1000)"
   ]
  },
  {
   "cell_type": "code",
   "execution_count": 225,
   "metadata": {},
   "outputs": [
    {
     "name": "stdout",
     "output_type": "stream",
     "text": [
      "[-4.1787913] [96.99419769]\n"
     ]
    }
   ],
   "source": [
    "print(theta0, theta1)"
   ]
  },
  {
   "cell_type": "code",
   "execution_count": 226,
   "metadata": {},
   "outputs": [
    {
     "name": "stdout",
     "output_type": "stream",
     "text": [
      "416.8570531992683\n"
     ]
    }
   ],
   "source": [
    "print(get_mse(y, theta0+np.matmul(x,theta1)))"
   ]
  },
  {
   "cell_type": "code",
   "execution_count": 227,
   "metadata": {},
   "outputs": [
    {
     "data": {
      "image/png": "[encoded data removed]",
      "text/plain": [
       "<Figure size 432x288 with 1 Axes>"
      ]
     },
     "metadata": {},
     "output_type": "display_data"
    }
   ],
   "source": [
    "plt.scatter(x,y)\n",
    "plt.plot(x, theta0+x*theta1, 'r')\n",
    "plt.show()"
   ]
  }
 ],
 "metadata": {
  "kernelspec": {
   "display_name": "Python 3",
   "language": "python",
   "name": "python3"
  },
  "language_info": {
   "codemirror_mode": {
    "name": "ipython",
    "version": 3
   },
   "file_extension": ".py",
   "mimetype": "text/x-python",
   "name": "python",
   "nbconvert_exporter": "python",
   "pygments_lexer": "ipython3",
   "version": "3.6.4"
  }
 },
 "nbformat": 4,
 "nbformat_minor": 2
}
